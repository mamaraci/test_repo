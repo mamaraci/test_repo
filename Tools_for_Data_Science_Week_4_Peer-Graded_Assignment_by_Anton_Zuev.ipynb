{
 "cells": [
  {
   "cell_type": "markdown",
   "metadata": {},
   "source": [
    "<center>\n",
    "    <img src=\"https://cf-courses-data.s3.us.cloud-object-storage.appdomain.cloud/IBMDeveloperSkillsNetwork-DS0105EN-SkillsNetwork/labs/Module2/images/SN_web_lightmode.png\" width=\"300\" alt=\"cognitiveclass.ai logo\">\n",
    "</center>\n"
   ]
  },
  {
   "cell_type": "markdown",
   "metadata": {},
   "source": [
    "#### Add your code below following the instructions given in the course\n"
   ]
  },
  {
   "cell_type": "markdown",
   "metadata": {},
   "source": [
    "<h1>Tools for Data Science Final peer-graded assignment</h1>"
   ]
  },
  {
   "cell_type": "markdown",
   "metadata": {},
   "source": [
    "<h3>Introduction</h3>\n",
    "This final work should demonstrate the knowledge of the tools Ive got through the \"Tools for DS\" seection of the course\n",
    "\n"
   ]
  },
  {
   "cell_type": "markdown",
   "metadata": {},
   "source": [
    "<h3>Data science languages</h3>\n",
    "Python is taking 75% of the market share, being the most popular DS language.\n",
    "The second is R, used mainly by statisticians, mathematicians, data miners for developing stat software, graphing and data analysis.\n",
    "Other languages used in the process are SQL, Java, Scala, C++, JS, and Julia\n",
    "\n"
   ]
  },
  {
   "cell_type": "markdown",
   "metadata": {},
   "source": [
    "<h3>Data science libraries</h3>\n",
    "PY libraries:\n",
    "<br>\n",
    "1. used for scientific computing -\n",
    "pandas data structure & tools, providing two-dimensial tables of columns and rows & dataframes\n",
    "numpy - for array & matrices\n",
    "<br>\n",
    "2. visualization libraries\n",
    "matplotlib - plots, graphs, the most popular lib\n",
    "seaborn - plots heat maps, time series, violin plots\n",
    "<br>\n",
    "3. scikit-learn. ML: regression, classification\n",
    "<br><br>\n",
    "others are:\n",
    "<br>keras: deep learning neural networks.\n",
    "<br>TensorFlow : production and deployment.\n",
    "<br>pytorch: deep learning: regression, classification\n",
    "<br>apache spark - general purpopse clustered framework, using mulitple clusters\n",
    "<br>similar ad pandas, numpy or scikit-learn. can use py, r, scala, sql\n",
    "\n",
    "<br>scala libraries: complimentary to spark.\n",
    "<br>vegas - for visualization.\n",
    "<br>bigdl for deep learning.\n",
    "<br>r has built-in functionality for machine learning and data visualization\n",
    "<br>ggplot2 - data visualization\n",
    "<br>keras, tensorflow.\n",
    "<br>r is standard for ds, but superceeded by python\n",
    "\n",
    "\n",
    "\n",
    "\n"
   ]
  },
  {
   "cell_type": "markdown",
   "metadata": {},
   "source": [
    "<h3>Table of Data Science tools</h3>\n",
    "\n",
    "\n",
    "<table>\n",
    " <tr>\n",
    "    <th>Category of the tools</th>\n",
    "    <th>Open-source Examples</th>\n",
    "    <th>Commercial tools</th></tr>\n",
    "    \n",
    " <tr>\n",
    "    <td>Data management</td>    \n",
    "     <td>mysql, postgresql. MongoDB, CouchDB, cassandra.\n",
    "<br>file mngmnt: hadoop hdfs, ceph, elasticseaerch (text)\n",
    "     </td><td>oracle, microsoft sql, ibm db</td></tr>\n",
    "  \n",
    "<tr>\n",
    "    <td>Data integration and transformation (ETL, ELT)</td>\n",
    "    <td>apache airflow, kubeflow, apache kafka, apache nifi, spark sql, node-red (runs even on raspberry pi)</td>\n",
    "    <td>informatica, infospere datastage, sap, oracle, microsoft</td></tr>\n",
    "<tr><td>Data visualization</td>\n",
    "<td>Hue - visualization from SQL queries\n",
    "<br>kibana - limited to elasticsearch\n",
    "<br>apache superset</td>\n",
    "    <td>tableau,  powerbi, ibm cognos analytics, watson studio desktop</td></tr>\n",
    "<tr><td>Model building</td>\n",
    "    <td>Google Cloud ai platform</td>\n",
    "    <td>spss modeller, sas enterprise miner\n",
    "<br>watson studio, spss modeller available inside\n",
    "</td></tr>\n",
    "<tr><td>Model deployment</td>\n",
    "    <td>Apache PredictionIO - apache spark ML models for the deployment\n",
    "<br>Seldon - every framework. \n",
    "<br>mleap \n",
    "<br>tensorflow service \n",
    "<br>tensorflwo lite, .js</td>\n",
    "    <td>ibm spss</td></tr>\n",
    "<tr><td>Model monitoring and Assessment</td>\n",
    "<td>ModelDB - machine model database\n",
    "<br>Promoetheus - widely used for monitoring\n",
    "<br>model bias is ipmortant\n",
    "<br>AI fairness 360 monitors biases\n",
    "<br>adversarial robustness 360 - against attacks\n",
    "<br>AI explainability 360 - more understandable, finds the examples that can be presented.\n",
    "    </td>\n",
    "    <td>no relevant tools available</td></tr>\n",
    "    </table>\n",
    "\n",
    "        \n",
    "        "
   ]
  },
  {
   "cell_type": "markdown",
   "metadata": {},
   "source": [
    "Arithmetic operations are quite straight-forward: +, -, * and /\n",
    "\n",
    "Here are the examples:"
   ]
  },
  {
   "cell_type": "code",
   "execution_count": 9,
   "metadata": {},
   "outputs": [
    {
     "name": "stdout",
     "output_type": "stream",
     "text": [
      "The sum of 10 and 30 is: 40\n",
      "The mutiply of 10 and 30 is: 300\n"
     ]
    }
   ],
   "source": [
    "a=10\n",
    "b=30\n",
    "sum=a+b\n",
    "print(\"The sum of\",a,\"and\",b,\"is:\",sum)\n",
    "\n",
    "multiply=a*b\n",
    "print(\"The mutiply of\",a,\"and\",b,\"is:\",multiply)"
   ]
  },
  {
   "cell_type": "code",
   "execution_count": 20,
   "metadata": {},
   "outputs": [
    {
     "name": "stdout",
     "output_type": "stream",
     "text": [
      "The number of full hours in 2437 mins is 101 hours\n"
     ]
    }
   ],
   "source": [
    "minutes = 2437\n",
    "hours = minutes // 24\n",
    "\n",
    "print (\"The number of full hours in\",minutes,\"mins is\",hours,\"hours\")"
   ]
  },
  {
   "cell_type": "markdown",
   "metadata": {},
   "source": [
    "<h3>Objectives (???):</h3>\n",
    "<i>The task doesn't contain the specifity on which exact objectives are you talking about? I would propose to amend the question to avoid the ambiguity.</i>\n",
    "\n",
    "I would presume that we are talking about the Data Science Tools objectives, which are used for diving into raw and complicated data (unstructured or structured data) and processing, extracting, and analyzing it to dig out valuable insights by applying different data processing techniques such as statistics, modeling and analysis, and also deep learning.\n",
    "\n",
    "    "
   ]
  },
  {
   "cell_type": "markdown",
   "metadata": {},
   "source": [
    "<h3>accomplished by Anton Zuev</h3>"
   ]
  },
  {
   "cell_type": "code",
   "execution_count": null,
   "metadata": {},
   "outputs": [],
   "source": []
  }
 ],
 "metadata": {
  "kernelspec": {
   "display_name": "Python 3 (ipykernel)",
   "language": "python",
   "name": "python3"
  },
  "language_info": {
   "codemirror_mode": {
    "name": "ipython",
    "version": 3
   },
   "file_extension": ".py",
   "mimetype": "text/x-python",
   "name": "python",
   "nbconvert_exporter": "python",
   "pygments_lexer": "ipython3",
   "version": "3.9.13"
  }
 },
 "nbformat": 4,
 "nbformat_minor": 4
}

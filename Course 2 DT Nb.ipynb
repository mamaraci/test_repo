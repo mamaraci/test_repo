{
 "cells": [
  {
   "cell_type": "markdown",
   "id": "393ae0d2-aaae-47c6-9257-3763175d53e4",
   "metadata": {},
   "source": [
    "<h1>My Jupyter Notebook on IBM Watson Studio</h1>\n",
    "    \n",
    "<b>Anton Zuev</b>\n",
    "    \n",
    "<i>I'm curious in data science because it can mine value from the data</i>"
   ]
  },
  {
   "cell_type": "markdown",
   "id": "fb0e84d2-6b7c-4f70-857c-9bb360dd13d7",
   "metadata": {},
   "source": [
    "<h3>this is a set of 50 random ascii characters</h3>"
   ]
  },
  {
   "cell_type": "code",
   "execution_count": 11,
   "id": "837eeeea-987c-488e-8848-b4106f2667a6",
   "metadata": {},
   "outputs": [
    {
     "data": {
      "text/plain": [
       "'LSALMC13BHSD7XU9ZXYE2NRQ2R206X4XTMQQP0SP8ASB68C7BT'"
      ]
     },
     "execution_count": 11,
     "metadata": {},
     "output_type": "execute_result"
    }
   ],
   "source": [
    ">>> import random\n",
    ">>> import string\n",
    "\n",
    "''.join(random.choices(string.ascii_uppercase + string.digits, k=50))"
   ]
  },
  {
   "cell_type": "markdown",
   "id": "e8a4bdae-232d-4c5f-913e-c1eb979cd56c",
   "metadata": {},
   "source": [
    "1.  First item\n",
    "2.  Second item\n",
    "3.  Third item\n",
    "\n",
    "\n",
    "<table>\n",
    "    <tr>\n",
    "        <td>1.1st cell</td>\n",
    "        <td>1.2nd cell</td>\n",
    "        <td>1.3rd cell</td>\n",
    "    </tr>\n",
    "    <tr>\n",
    "        <td>2.1st cell</td>\n",
    "        <td>2.2nd cell</td>\n",
    "        <td>2.3rd cell</td>\n",
    "    </tr>\n",
    "    <tr>\n",
    "        <td>3.1st cell</td>\n",
    "        <td>3.2nd cell</td>\n",
    "        <td>3.3rd cell</td>\n",
    "    </tr>\n",
    "    </table>\n",
    "    \n",
    "    \n",
    "+   <font color=red>Red</font>\n",
    "+   <font color=green>Green</font>\n",
    "+   <font color=blue>Blue</font>"
   ]
  }
 ],
 "metadata": {
  "kernelspec": {
   "display_name": "Python 3 (ipykernel)",
   "language": "python",
   "name": "python3"
  },
  "language_info": {
   "codemirror_mode": {
    "name": "ipython",
    "version": 3
   },
   "file_extension": ".py",
   "mimetype": "text/x-python",
   "name": "python",
   "nbconvert_exporter": "python",
   "pygments_lexer": "ipython3",
   "version": "3.9.13"
  }
 },
 "nbformat": 4,
 "nbformat_minor": 5
}
